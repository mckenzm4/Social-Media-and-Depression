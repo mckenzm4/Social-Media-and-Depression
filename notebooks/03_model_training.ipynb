{
 "cells": [
  {
   "cell_type": "code",
   "execution_count": 1,
   "metadata": {},
   "outputs": [],
   "source": [
    "import sys\n",
    "import os\n",
    "sys.path.append(os.path.abspath(\"..\"))\n",
    "\n",
    "from src.utils import load_object, save_object\n",
    "from src.config import PROCESSED_DATA_PATH, MODELS_PATH\n",
    "\n",
    "from src.model import train_models"
   ]
  },
  {
   "cell_type": "code",
   "execution_count": 2,
   "metadata": {},
   "outputs": [
    {
     "name": "stdout",
     "output_type": "stream",
     "text": [
      "Loaded object from: c:\\Users\\micha\\OneDrive\\Documents\\Personal Projects\\Temp\\data\\processed\\X_train.joblib\n",
      "Loaded object from: c:\\Users\\micha\\OneDrive\\Documents\\Personal Projects\\Temp\\data\\processed\\y_train.joblib\n"
     ]
    }
   ],
   "source": [
    "X_train = load_object(os.path.join(PROCESSED_DATA_PATH, 'X_train.joblib'))\n",
    "y_train = load_object(os.path.join(PROCESSED_DATA_PATH, 'y_train.joblib'))"
   ]
  },
  {
   "cell_type": "code",
   "execution_count": 3,
   "metadata": {},
   "outputs": [
    {
     "name": "stdout",
     "output_type": "stream",
     "text": [
      "Linear Regression training time: 0.0129 seconds\n",
      "Support Vector Regression training time: 0.0108 seconds\n",
      "XGB Regressor training time: 0.0721 seconds\n",
      "Sequential Neural Network training time: 6.8432 seconds\n"
     ]
    }
   ],
   "source": [
    "models = train_models(X_train, y_train)"
   ]
  },
  {
   "cell_type": "code",
   "execution_count": 4,
   "metadata": {},
   "outputs": [],
   "source": [
    "lr_model = models['lr_model']\n",
    "svr_model = models['svr_model']\n",
    "xgb_model = models['xgb_model']\n",
    "nn_model = models['nn_model']"
   ]
  },
  {
   "cell_type": "code",
   "execution_count": 5,
   "metadata": {},
   "outputs": [
    {
     "name": "stdout",
     "output_type": "stream",
     "text": [
      "Saved object to: c:\\Users\\micha\\OneDrive\\Documents\\Personal Projects\\Temp\\models\\lr_model.joblib\n",
      "Saved object to: c:\\Users\\micha\\OneDrive\\Documents\\Personal Projects\\Temp\\models\\svr_model.joblib\n",
      "Saved object to: c:\\Users\\micha\\OneDrive\\Documents\\Personal Projects\\Temp\\models\\xgb_model.joblib\n",
      "Saved object to: c:\\Users\\micha\\OneDrive\\Documents\\Personal Projects\\Temp\\models\\nn_model.joblib\n"
     ]
    }
   ],
   "source": [
    "save_object(lr_model, os.path.join(MODELS_PATH, 'lr_model.joblib'))\n",
    "save_object(svr_model, os.path.join(MODELS_PATH, 'svr_model.joblib'))\n",
    "save_object(xgb_model, os.path.join(MODELS_PATH, 'xgb_model.joblib'))\n",
    "save_object(nn_model, os.path.join(MODELS_PATH, 'nn_model.joblib'))"
   ]
  }
 ],
 "metadata": {
  "kernelspec": {
   "display_name": "Python 3",
   "language": "python",
   "name": "python3"
  },
  "language_info": {
   "codemirror_mode": {
    "name": "ipython",
    "version": 3
   },
   "file_extension": ".py",
   "mimetype": "text/x-python",
   "name": "python",
   "nbconvert_exporter": "python",
   "pygments_lexer": "ipython3",
   "version": "3.11.5"
  }
 },
 "nbformat": 4,
 "nbformat_minor": 2
}
